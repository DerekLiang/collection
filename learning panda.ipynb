{
 "cells": [
  {
   "cell_type": "markdown",
   "metadata": {},
   "source": [
    "### introduction"
   ]
  },
  {
   "cell_type": "markdown",
   "metadata": {},
   "source": [
    "import panda and numpy, since panda works with numpy, normally it imports together"
   ]
  },
  {
   "cell_type": "code",
   "execution_count": 3,
   "metadata": {},
   "outputs": [],
   "source": [
    "import pandas as pd\n",
    "import numpy as np"
   ]
  },
  {
   "cell_type": "markdown",
   "metadata": {},
   "source": [
    "create a random array one dimensional array"
   ]
  },
  {
   "cell_type": "code",
   "execution_count": 8,
   "metadata": {},
   "outputs": [
    {
     "data": {
      "text/plain": [
       "(array([0.52866743, 0.98214217, 0.57037069]), numpy.ndarray)"
      ]
     },
     "execution_count": 8,
     "metadata": {},
     "output_type": "execute_result"
    }
   ],
   "source": [
    "array = np.random.rand(3)\n",
    "array,type(array)"
   ]
  },
  {
   "cell_type": "markdown",
   "metadata": {},
   "source": [
    "build the pd series with numpy array"
   ]
  },
  {
   "cell_type": "code",
   "execution_count": 9,
   "metadata": {},
   "outputs": [],
   "source": [
    "series = pd.Series(array)"
   ]
  },
  {
   "cell_type": "code",
   "execution_count": 11,
   "metadata": {},
   "outputs": [
    {
     "data": {
      "text/plain": [
       "(0    0.528667\n",
       " 1    0.982142\n",
       " 2    0.570371\n",
       " dtype: float64, pandas.core.series.Series)"
      ]
     },
     "execution_count": 11,
     "metadata": {},
     "output_type": "execute_result"
    }
   ],
   "source": [
    "series, type(series)"
   ]
  },
  {
   "cell_type": "code",
   "execution_count": 12,
   "metadata": {},
   "outputs": [
    {
     "data": {
      "text/plain": [
       "0.5286674291309472"
      ]
     },
     "execution_count": 12,
     "metadata": {},
     "output_type": "execute_result"
    }
   ],
   "source": [
    "series[0]"
   ]
  },
  {
   "cell_type": "markdown",
   "metadata": {},
   "source": [
    "build panda series with pre-defined index name"
   ]
  },
  {
   "cell_type": "code",
   "execution_count": 15,
   "metadata": {},
   "outputs": [
    {
     "data": {
      "text/plain": [
       "(first     0.528667\n",
       " second    0.982142\n",
       " third     0.570371\n",
       " dtype: float64, 0.5286674291309472, 0.5286674291309472)"
      ]
     },
     "execution_count": 15,
     "metadata": {},
     "output_type": "execute_result"
    }
   ],
   "source": [
    "series1 = pd.Series(array, index=['first', 'second', 'third'])\n",
    "series1, series1[0], series1['first']"
   ]
  },
  {
   "cell_type": "code",
   "execution_count": 16,
   "metadata": {},
   "outputs": [
    {
     "data": {
      "text/plain": [
       "Index(['first', 'second', 'third'], dtype='object')"
      ]
     },
     "execution_count": 16,
     "metadata": {},
     "output_type": "execute_result"
    }
   ],
   "source": [
    "series1.index"
   ]
  },
  {
   "cell_type": "markdown",
   "metadata": {},
   "source": [
    "build panda data frame from 2 dimensional array"
   ]
  },
  {
   "cell_type": "code",
   "execution_count": 20,
   "metadata": {},
   "outputs": [
    {
     "data": {
      "text/plain": [
       "(array([[0.26602202, 0.16550031],\n",
       "        [0.63423049, 0.05273606],\n",
       "        [0.10949095, 0.72442986]]), 0.16550030632925883)"
      ]
     },
     "execution_count": 20,
     "metadata": {},
     "output_type": "execute_result"
    }
   ],
   "source": [
    "array_2d = np.random.rand(3,2)\n",
    "array_2d, array_2d[0,1]"
   ]
  },
  {
   "cell_type": "code",
   "execution_count": 21,
   "metadata": {},
   "outputs": [
    {
     "data": {
      "text/html": [
       "<div>\n",
       "<style scoped>\n",
       "    .dataframe tbody tr th:only-of-type {\n",
       "        vertical-align: middle;\n",
       "    }\n",
       "\n",
       "    .dataframe tbody tr th {\n",
       "        vertical-align: top;\n",
       "    }\n",
       "\n",
       "    .dataframe thead th {\n",
       "        text-align: right;\n",
       "    }\n",
       "</style>\n",
       "<table border=\"1\" class=\"dataframe\">\n",
       "  <thead>\n",
       "    <tr style=\"text-align: right;\">\n",
       "      <th></th>\n",
       "      <th>0</th>\n",
       "      <th>1</th>\n",
       "    </tr>\n",
       "  </thead>\n",
       "  <tbody>\n",
       "    <tr>\n",
       "      <th>0</th>\n",
       "      <td>0.266022</td>\n",
       "      <td>0.165500</td>\n",
       "    </tr>\n",
       "    <tr>\n",
       "      <th>1</th>\n",
       "      <td>0.634230</td>\n",
       "      <td>0.052736</td>\n",
       "    </tr>\n",
       "    <tr>\n",
       "      <th>2</th>\n",
       "      <td>0.109491</td>\n",
       "      <td>0.724430</td>\n",
       "    </tr>\n",
       "  </tbody>\n",
       "</table>\n",
       "</div>"
      ],
      "text/plain": [
       "          0         1\n",
       "0  0.266022  0.165500\n",
       "1  0.634230  0.052736\n",
       "2  0.109491  0.724430"
      ]
     },
     "execution_count": 21,
     "metadata": {},
     "output_type": "execute_result"
    }
   ],
   "source": [
    "df = pd.DataFrame(array_2d)\n",
    "df"
   ]
  },
  {
   "cell_type": "code",
   "execution_count": 22,
   "metadata": {},
   "outputs": [
    {
     "data": {
      "text/plain": [
       "(0    0.266022\n",
       " 1    0.634230\n",
       " 2    0.109491\n",
       " Name: 0, dtype: float64, 0.634230491538009)"
      ]
     },
     "execution_count": 22,
     "metadata": {},
     "output_type": "execute_result"
    }
   ],
   "source": [
    "df[0], df[0][1]"
   ]
  },
  {
   "cell_type": "markdown",
   "metadata": {},
   "source": [
    "### Read CSV file"
   ]
  },
  {
   "cell_type": "code",
   "execution_count": 26,
   "metadata": {},
   "outputs": [
    {
     "name": "stdout",
     "output_type": "stream",
     "text": [
      " Volume in drive C is Windows\n",
      " Volume Serial Number is DA92-E920\n",
      "\n",
      " Directory of c:\\src\\collection\n",
      "\n",
      "01/30/2018  09:55 PM           482,311 artist_data.csv\n",
      "01/30/2018  09:55 PM        24,353,266 artwork_data.csv\n",
      "               2 File(s)     24,835,577 bytes\n",
      "               0 Dir(s)  225,544,769,536 bytes free\n"
     ]
    }
   ],
   "source": [
    "!dir *.csv"
   ]
  },
  {
   "cell_type": "markdown",
   "metadata": {},
   "source": [
    "get a sample of the csv files"
   ]
  },
  {
   "cell_type": "code",
   "execution_count": 34,
   "metadata": {},
   "outputs": [
    {
     "data": {
      "text/plain": [
       "(      id                    name  gender      dates  yearOfBirth  yearOfDeath  \\\n",
       " 0  10093  Abakanowicz, Magdalena  Female  born 1930         1930          NaN   \n",
       " 1      0     Abbey, Edwin Austin    Male  1852–1911         1852       1911.0   \n",
       " 2   2756        Abbott, Berenice  Female  1898–1991         1898       1991.0   \n",
       " 3      1  Abbott, Lemuel Francis    Male  1760–1803         1760       1803.0   \n",
       " 4    622          Abrahams, Ivor    Male  born 1935         1935          NaN   \n",
       " \n",
       "                      placeOfBirth            placeOfDeath  \\\n",
       " 0                          Polska                     NaN   \n",
       " 1     Philadelphia, United States  London, United Kingdom   \n",
       " 2      Springfield, United States   Monson, United States   \n",
       " 3  Leicestershire, United Kingdom  London, United Kingdom   \n",
       " 4           Wigan, United Kingdom                     NaN   \n",
       " \n",
       "                                                  url  \n",
       " 0  http://www.tate.org.uk/art/artists/magdalena-a...  \n",
       " 1  http://www.tate.org.uk/art/artists/edwin-austi...  \n",
       " 2  http://www.tate.org.uk/art/artists/berenice-ab...  \n",
       " 3  http://www.tate.org.uk/art/artists/lemuel-fran...  \n",
       " 4  http://www.tate.org.uk/art/artists/ivor-abraha...  ,\n",
       "      id accession_number          artist artistRole  artistId  \\\n",
       " 0  1035           A00001   Blake, Robert     artist        38   \n",
       " 1  1036           A00002   Blake, Robert     artist        38   \n",
       " 2  1037           A00003   Blake, Robert     artist        38   \n",
       " 3  1038           A00004   Blake, Robert     artist        38   \n",
       " 4  1039           A00005  Blake, William     artist        39   \n",
       " \n",
       "                                                title                dateText  \\\n",
       " 0  A Figure Bowing before a Seated Old Man with h...          date not known   \n",
       " 1  Two Drawings of Frightened Figures, Probably f...          date not known   \n",
       " 2  The Preaching of Warning. Verso: An Old Man En...                 ?c.1785   \n",
       " 3     Six Drawings of Figures with Outstretched Arms          date not known   \n",
       " 4  The Circle of the Lustful: Francesca da Rimini...  1826–7, reprinted 1892   \n",
       " \n",
       "                                               medium  \\\n",
       " 0  Watercolour, ink, chalk and graphite on paper....   \n",
       " 1                                  Graphite on paper   \n",
       " 2        Graphite on paper. Verso: graphite on paper   \n",
       " 3                                  Graphite on paper   \n",
       " 4                            Line engraving on paper   \n",
       " \n",
       "                                           creditLine    year  acquisitionYear  \\\n",
       " 0                Presented by Mrs John Richmond 1922     NaN             1922   \n",
       " 1                Presented by Mrs John Richmond 1922     NaN             1922   \n",
       " 2                Presented by Mrs John Richmond 1922  1785.0             1922   \n",
       " 3                Presented by Mrs John Richmond 1922     NaN             1922   \n",
       " 4  Purchased with the assistance of a special gra...  1826.0             1919   \n",
       " \n",
       "               dimensions  width  height  depth units  inscription  \\\n",
       " 0  support: 394 x 419 mm    394     419    NaN    mm          NaN   \n",
       " 1  support: 311 x 213 mm    311     213    NaN    mm          NaN   \n",
       " 2  support: 343 x 467 mm    343     467    NaN    mm          NaN   \n",
       " 3  support: 318 x 394 mm    318     394    NaN    mm          NaN   \n",
       " 4    image: 243 x 335 mm    243     335    NaN    mm          NaN   \n",
       " \n",
       "    thumbnailCopyright                                       thumbnailUrl  \\\n",
       " 0                 NaN  http://www.tate.org.uk/art/images/work/A/A00/A...   \n",
       " 1                 NaN  http://www.tate.org.uk/art/images/work/A/A00/A...   \n",
       " 2                 NaN  http://www.tate.org.uk/art/images/work/A/A00/A...   \n",
       " 3                 NaN  http://www.tate.org.uk/art/images/work/A/A00/A...   \n",
       " 4                 NaN  http://www.tate.org.uk/art/images/work/A/A00/A...   \n",
       " \n",
       "                                                  url  \n",
       " 0  http://www.tate.org.uk/art/artworks/blake-a-fi...  \n",
       " 1  http://www.tate.org.uk/art/artworks/blake-two-...  \n",
       " 2  http://www.tate.org.uk/art/artworks/blake-the-...  \n",
       " 3  http://www.tate.org.uk/art/artworks/blake-six-...  \n",
       " 4  http://www.tate.org.uk/art/artworks/blake-the-...  )"
      ]
     },
     "execution_count": 34,
     "metadata": {},
     "output_type": "execute_result"
    }
   ],
   "source": [
    "artist = pd.read_csv('artist_data.csv', nrows=5)\n",
    "artwork = pd.read_csv('artwork_data.csv', nrows=5)\n",
    "artist, artwork"
   ]
  },
  {
   "cell_type": "code",
   "execution_count": 37,
   "metadata": {},
   "outputs": [
    {
     "data": {
      "text/plain": [
       "(Index(['id', 'name', 'gender', 'dates', 'yearOfBirth', 'yearOfDeath',\n",
       "        'placeOfBirth', 'placeOfDeath', 'url'],\n",
       "       dtype='object'),\n",
       " Index(['id', 'accession_number', 'artist', 'artistRole', 'artistId', 'title',\n",
       "        'dateText', 'medium', 'creditLine', 'year', 'acquisitionYear',\n",
       "        'dimensions', 'width', 'height', 'depth', 'units', 'inscription',\n",
       "        'thumbnailCopyright', 'thumbnailUrl', 'url'],\n",
       "       dtype='object'))"
      ]
     },
     "execution_count": 37,
     "metadata": {},
     "output_type": "execute_result"
    }
   ],
   "source": [
    "artist.columns, artwork.columns"
   ]
  },
  {
   "cell_type": "markdown",
   "metadata": {},
   "source": [
    "define columns to use "
   ]
  },
  {
   "cell_type": "code",
   "execution_count": 39,
   "metadata": {},
   "outputs": [],
   "source": [
    "ARTIST_COLS_TO_USE = ['id', 'name', 'gender', 'dates', 'yearOfBirth', 'yearOfDeath', 'placeOfBirth', 'placeOfDeath', 'url']\n",
    "ARTWORK_COLS_TO_USE = ['id', 'artist', 'title', 'dateText', 'medium', \\\n",
    "                       'year', 'acquisitionYear', 'width', 'height', 'units' ]"
   ]
  },
  {
   "cell_type": "code",
   "execution_count": 42,
   "metadata": {},
   "outputs": [],
   "source": [
    "artist = pd.read_csv('artist_data.csv', nrows=5, usecols=ARTIST_COLS_TO_USE)\n",
    "artwork = pd.read_csv('artwork_data.csv', nrows=5, usecols=ARTWORK_COLS_TO_USE)"
   ]
  },
  {
   "cell_type": "code",
   "execution_count": 43,
   "metadata": {},
   "outputs": [
    {
     "data": {
      "text/html": [
       "<div>\n",
       "<style scoped>\n",
       "    .dataframe tbody tr th:only-of-type {\n",
       "        vertical-align: middle;\n",
       "    }\n",
       "\n",
       "    .dataframe tbody tr th {\n",
       "        vertical-align: top;\n",
       "    }\n",
       "\n",
       "    .dataframe thead th {\n",
       "        text-align: right;\n",
       "    }\n",
       "</style>\n",
       "<table border=\"1\" class=\"dataframe\">\n",
       "  <thead>\n",
       "    <tr style=\"text-align: right;\">\n",
       "      <th></th>\n",
       "      <th>id</th>\n",
       "      <th>artist</th>\n",
       "      <th>title</th>\n",
       "      <th>dateText</th>\n",
       "      <th>medium</th>\n",
       "      <th>year</th>\n",
       "      <th>acquisitionYear</th>\n",
       "      <th>width</th>\n",
       "      <th>height</th>\n",
       "      <th>units</th>\n",
       "    </tr>\n",
       "  </thead>\n",
       "  <tbody>\n",
       "    <tr>\n",
       "      <th>0</th>\n",
       "      <td>1035</td>\n",
       "      <td>Blake, Robert</td>\n",
       "      <td>A Figure Bowing before a Seated Old Man with h...</td>\n",
       "      <td>date not known</td>\n",
       "      <td>Watercolour, ink, chalk and graphite on paper....</td>\n",
       "      <td>NaN</td>\n",
       "      <td>1922</td>\n",
       "      <td>394</td>\n",
       "      <td>419</td>\n",
       "      <td>mm</td>\n",
       "    </tr>\n",
       "    <tr>\n",
       "      <th>1</th>\n",
       "      <td>1036</td>\n",
       "      <td>Blake, Robert</td>\n",
       "      <td>Two Drawings of Frightened Figures, Probably f...</td>\n",
       "      <td>date not known</td>\n",
       "      <td>Graphite on paper</td>\n",
       "      <td>NaN</td>\n",
       "      <td>1922</td>\n",
       "      <td>311</td>\n",
       "      <td>213</td>\n",
       "      <td>mm</td>\n",
       "    </tr>\n",
       "    <tr>\n",
       "      <th>2</th>\n",
       "      <td>1037</td>\n",
       "      <td>Blake, Robert</td>\n",
       "      <td>The Preaching of Warning. Verso: An Old Man En...</td>\n",
       "      <td>?c.1785</td>\n",
       "      <td>Graphite on paper. Verso: graphite on paper</td>\n",
       "      <td>1785.0</td>\n",
       "      <td>1922</td>\n",
       "      <td>343</td>\n",
       "      <td>467</td>\n",
       "      <td>mm</td>\n",
       "    </tr>\n",
       "    <tr>\n",
       "      <th>3</th>\n",
       "      <td>1038</td>\n",
       "      <td>Blake, Robert</td>\n",
       "      <td>Six Drawings of Figures with Outstretched Arms</td>\n",
       "      <td>date not known</td>\n",
       "      <td>Graphite on paper</td>\n",
       "      <td>NaN</td>\n",
       "      <td>1922</td>\n",
       "      <td>318</td>\n",
       "      <td>394</td>\n",
       "      <td>mm</td>\n",
       "    </tr>\n",
       "    <tr>\n",
       "      <th>4</th>\n",
       "      <td>1039</td>\n",
       "      <td>Blake, William</td>\n",
       "      <td>The Circle of the Lustful: Francesca da Rimini...</td>\n",
       "      <td>1826–7, reprinted 1892</td>\n",
       "      <td>Line engraving on paper</td>\n",
       "      <td>1826.0</td>\n",
       "      <td>1919</td>\n",
       "      <td>243</td>\n",
       "      <td>335</td>\n",
       "      <td>mm</td>\n",
       "    </tr>\n",
       "  </tbody>\n",
       "</table>\n",
       "</div>"
      ],
      "text/plain": [
       "     id          artist                                              title  \\\n",
       "0  1035   Blake, Robert  A Figure Bowing before a Seated Old Man with h...   \n",
       "1  1036   Blake, Robert  Two Drawings of Frightened Figures, Probably f...   \n",
       "2  1037   Blake, Robert  The Preaching of Warning. Verso: An Old Man En...   \n",
       "3  1038   Blake, Robert     Six Drawings of Figures with Outstretched Arms   \n",
       "4  1039  Blake, William  The Circle of the Lustful: Francesca da Rimini...   \n",
       "\n",
       "                 dateText                                             medium  \\\n",
       "0          date not known  Watercolour, ink, chalk and graphite on paper....   \n",
       "1          date not known                                  Graphite on paper   \n",
       "2                 ?c.1785        Graphite on paper. Verso: graphite on paper   \n",
       "3          date not known                                  Graphite on paper   \n",
       "4  1826–7, reprinted 1892                            Line engraving on paper   \n",
       "\n",
       "     year  acquisitionYear  width  height units  \n",
       "0     NaN             1922    394     419    mm  \n",
       "1     NaN             1922    311     213    mm  \n",
       "2  1785.0             1922    343     467    mm  \n",
       "3     NaN             1922    318     394    mm  \n",
       "4  1826.0             1919    243     335    mm  "
      ]
     },
     "execution_count": 43,
     "metadata": {},
     "output_type": "execute_result"
    }
   ],
   "source": [
    "artwork"
   ]
  },
  {
   "cell_type": "code",
   "execution_count": 44,
   "metadata": {},
   "outputs": [
    {
     "data": {
      "text/html": [
       "<div>\n",
       "<style scoped>\n",
       "    .dataframe tbody tr th:only-of-type {\n",
       "        vertical-align: middle;\n",
       "    }\n",
       "\n",
       "    .dataframe tbody tr th {\n",
       "        vertical-align: top;\n",
       "    }\n",
       "\n",
       "    .dataframe thead th {\n",
       "        text-align: right;\n",
       "    }\n",
       "</style>\n",
       "<table border=\"1\" class=\"dataframe\">\n",
       "  <thead>\n",
       "    <tr style=\"text-align: right;\">\n",
       "      <th></th>\n",
       "      <th>id</th>\n",
       "      <th>name</th>\n",
       "      <th>gender</th>\n",
       "      <th>dates</th>\n",
       "      <th>yearOfBirth</th>\n",
       "      <th>yearOfDeath</th>\n",
       "      <th>placeOfBirth</th>\n",
       "      <th>placeOfDeath</th>\n",
       "      <th>url</th>\n",
       "    </tr>\n",
       "  </thead>\n",
       "  <tbody>\n",
       "    <tr>\n",
       "      <th>0</th>\n",
       "      <td>10093</td>\n",
       "      <td>Abakanowicz, Magdalena</td>\n",
       "      <td>Female</td>\n",
       "      <td>born 1930</td>\n",
       "      <td>1930</td>\n",
       "      <td>NaN</td>\n",
       "      <td>Polska</td>\n",
       "      <td>NaN</td>\n",
       "      <td>http://www.tate.org.uk/art/artists/magdalena-a...</td>\n",
       "    </tr>\n",
       "    <tr>\n",
       "      <th>1</th>\n",
       "      <td>0</td>\n",
       "      <td>Abbey, Edwin Austin</td>\n",
       "      <td>Male</td>\n",
       "      <td>1852–1911</td>\n",
       "      <td>1852</td>\n",
       "      <td>1911.0</td>\n",
       "      <td>Philadelphia, United States</td>\n",
       "      <td>London, United Kingdom</td>\n",
       "      <td>http://www.tate.org.uk/art/artists/edwin-austi...</td>\n",
       "    </tr>\n",
       "    <tr>\n",
       "      <th>2</th>\n",
       "      <td>2756</td>\n",
       "      <td>Abbott, Berenice</td>\n",
       "      <td>Female</td>\n",
       "      <td>1898–1991</td>\n",
       "      <td>1898</td>\n",
       "      <td>1991.0</td>\n",
       "      <td>Springfield, United States</td>\n",
       "      <td>Monson, United States</td>\n",
       "      <td>http://www.tate.org.uk/art/artists/berenice-ab...</td>\n",
       "    </tr>\n",
       "    <tr>\n",
       "      <th>3</th>\n",
       "      <td>1</td>\n",
       "      <td>Abbott, Lemuel Francis</td>\n",
       "      <td>Male</td>\n",
       "      <td>1760–1803</td>\n",
       "      <td>1760</td>\n",
       "      <td>1803.0</td>\n",
       "      <td>Leicestershire, United Kingdom</td>\n",
       "      <td>London, United Kingdom</td>\n",
       "      <td>http://www.tate.org.uk/art/artists/lemuel-fran...</td>\n",
       "    </tr>\n",
       "    <tr>\n",
       "      <th>4</th>\n",
       "      <td>622</td>\n",
       "      <td>Abrahams, Ivor</td>\n",
       "      <td>Male</td>\n",
       "      <td>born 1935</td>\n",
       "      <td>1935</td>\n",
       "      <td>NaN</td>\n",
       "      <td>Wigan, United Kingdom</td>\n",
       "      <td>NaN</td>\n",
       "      <td>http://www.tate.org.uk/art/artists/ivor-abraha...</td>\n",
       "    </tr>\n",
       "  </tbody>\n",
       "</table>\n",
       "</div>"
      ],
      "text/plain": [
       "      id                    name  gender      dates  yearOfBirth  yearOfDeath  \\\n",
       "0  10093  Abakanowicz, Magdalena  Female  born 1930         1930          NaN   \n",
       "1      0     Abbey, Edwin Austin    Male  1852–1911         1852       1911.0   \n",
       "2   2756        Abbott, Berenice  Female  1898–1991         1898       1991.0   \n",
       "3      1  Abbott, Lemuel Francis    Male  1760–1803         1760       1803.0   \n",
       "4    622          Abrahams, Ivor    Male  born 1935         1935          NaN   \n",
       "\n",
       "                     placeOfBirth            placeOfDeath  \\\n",
       "0                          Polska                     NaN   \n",
       "1     Philadelphia, United States  London, United Kingdom   \n",
       "2      Springfield, United States   Monson, United States   \n",
       "3  Leicestershire, United Kingdom  London, United Kingdom   \n",
       "4           Wigan, United Kingdom                     NaN   \n",
       "\n",
       "                                                 url  \n",
       "0  http://www.tate.org.uk/art/artists/magdalena-a...  \n",
       "1  http://www.tate.org.uk/art/artists/edwin-austi...  \n",
       "2  http://www.tate.org.uk/art/artists/berenice-ab...  \n",
       "3  http://www.tate.org.uk/art/artists/lemuel-fran...  \n",
       "4  http://www.tate.org.uk/art/artists/ivor-abraha...  "
      ]
     },
     "execution_count": 44,
     "metadata": {},
     "output_type": "execute_result"
    }
   ],
   "source": [
    "artist"
   ]
  },
  {
   "cell_type": "code",
   "execution_count": null,
   "metadata": {},
   "outputs": [],
   "source": []
  }
 ],
 "metadata": {
  "kernelspec": {
   "display_name": "Python 3",
   "language": "python",
   "name": "python3"
  },
  "language_info": {
   "codemirror_mode": {
    "name": "ipython",
    "version": 3
   },
   "file_extension": ".py",
   "mimetype": "text/x-python",
   "name": "python",
   "nbconvert_exporter": "python",
   "pygments_lexer": "ipython3",
   "version": "3.6.4"
  }
 },
 "nbformat": 4,
 "nbformat_minor": 2
}
